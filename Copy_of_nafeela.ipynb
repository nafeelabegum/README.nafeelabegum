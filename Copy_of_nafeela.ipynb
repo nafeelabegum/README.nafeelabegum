{
  "nbformat": 4,
  "nbformat_minor": 0,
  "metadata": {
    "colab": {
      "provenance": [],
      "authorship_tag": "ABX9TyPF7oFA5//aTaqeEMe/CxFX",
      "include_colab_link": true
    },
    "kernelspec": {
      "name": "python3",
      "display_name": "Python 3"
    },
    "language_info": {
      "name": "python"
    }
  },
  "cells": [
    {
      "cell_type": "markdown",
      "metadata": {
        "id": "view-in-github",
        "colab_type": "text"
      },
      "source": [
        "<a href=\"https://colab.research.google.com/github/nafeelabegum/README.nafeelabegum/blob/main/Copy_of_nafeela.ipynb\" target=\"_parent\"><img src=\"https://colab.research.google.com/assets/colab-badge.svg\" alt=\"Open In Colab\"/></a>"
      ]
    },
    {
      "cell_type": "code",
      "execution_count": null,
      "metadata": {
        "colab": {
          "base_uri": "https://localhost:8080/"
        },
        "id": "lcFJ4emufDPB",
        "outputId": "7fba0bf7-df4e-40f7-abcc-713a14fe7579"
      },
      "outputs": [
        {
          "output_type": "stream",
          "name": "stdout",
          "text": [
            "Enter your choice: \n",
            "1. Stone\n",
            "2. Paper\n",
            "3. Scissor\n",
            "4. Exit\n",
            "Your choice (1/2/3/4): 1\n",
            "Your choice: 1\n",
            "Computer's choice: 2\n",
            "Computer wins!\n",
            "Your Score: 0, Computer Score: 1\n",
            "Attempts Left: 24\n",
            "\n",
            "Enter your choice: \n",
            "1. Stone\n",
            "2. Paper\n",
            "3. Scissor\n",
            "4. Exit\n"
          ]
        }
      ],
      "source": [
        "import random\n",
        "\n",
        "def get_user_choice():\n",
        "    print(\"Enter your choice: \")\n",
        "    print(\"1. Stone\")\n",
        "    print(\"2. Paper\")\n",
        "    print(\"3. Scissor\")\n",
        "    print(\"4. Exit\")\n",
        "    choice = input(\"Your choice (1/2/3/4): \")\n",
        "    return int(choice)\n",
        "\n",
        "def get_computer_choice():\n",
        "    return random.randint(1, 3)\n",
        "\n",
        "def get_winner(user_choice, computer_choice):\n",
        "    if user_choice == computer_choice:\n",
        "        return \"It's a tie!\"\n",
        "    elif user_choice == 1:  # User chooses Stone\n",
        "        return \"You win!\" if computer_choice == 3 else \"Computer wins!\"\n",
        "    elif user_choice == 2:  # User chooses Paper\n",
        "        return \"You win!\" if computer_choice == 1 else \"Computer wins!\"\n",
        "    elif user_choice == 3:  # User chooses Scissor\n",
        "        return \"You win!\" if computer_choice == 2 else \"Computer wins!\"\n",
        "\n",
        "def play_game():\n",
        "    my_score = 0\n",
        "    computer_score = 0\n",
        "    no_attempts = 0\n",
        "\n",
        "    while no_attempts < 25 and my_score < 5:\n",
        "        user_choice = get_user_choice()\n",
        "        if user_choice == 4:\n",
        "            print(\"Exiting the game.\")\n",
        "            break\n",
        "\n",
        "        if user_choice not in [1, 2, 3]:\n",
        "            print(\"Invalid choice. Please choose again.\")\n",
        "            continue\n",
        "\n",
        "        computer_choice = get_computer_choice()\n",
        "\n",
        "        print(f\"Your choice: {user_choice}\")\n",
        "        print(f\"Computer's choice: {computer_choice}\")\n",
        "\n",
        "        winner = get_winner(user_choice, computer_choice)\n",
        "        print(winner)\n",
        "\n",
        "        if winner == \"You win!\":\n",
        "            my_score += 1\n",
        "        elif winner == \"Computer wins!\":\n",
        "            computer_score += 1\n",
        "\n",
        "        print(f\"Your Score: {my_score}, Computer Score: {computer_score}\")\n",
        "        print(f\"Attempts Left: {25 - no_attempts - 1}\\n\")\n",
        "        no_attempts += 1\n",
        "\n",
        "    if my_score >= 5:\n",
        "        print(\"Congratulations! You reached a maximum score of 5.\")\n",
        "    else:\n",
        "        print(\"Game Over!\")\n",
        "\n",
        "play_game()"
      ]
    }
  ]
}